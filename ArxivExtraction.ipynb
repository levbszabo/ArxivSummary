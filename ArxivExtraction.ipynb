{
 "cells": [
  {
   "cell_type": "code",
   "execution_count": 4,
   "metadata": {},
   "outputs": [],
   "source": [
    "import json"
   ]
  },
  {
   "cell_type": "markdown",
   "metadata": {},
   "source": [
    "# Section 1: Data Preparation - Skip to Section 2 to use short_test.txt"
   ]
  },
  {
   "cell_type": "code",
   "execution_count": 41,
   "metadata": {},
   "outputs": [],
   "source": [
    "def get_data(path,n=100):\n",
    "    file = open(path,\"r\")                  \n",
    "    lines = file.readlines()\n",
    "    lines_subsets = lines[:n]\n",
    "    article_dicts = []\n",
    "    for f in lines_subsets:\n",
    "        article_dicts.append(json.loads(f))\n",
    "    file.close()\n",
    "    return article_dicts"
   ]
  },
  {
   "cell_type": "code",
   "execution_count": 42,
   "metadata": {},
   "outputs": [],
   "source": [
    "article_dicts = get_data(\"val.txt\")  # this is 400 MB and training is 4 GB. I've extracted first 500 to play around with"
   ]
  },
  {
   "cell_type": "code",
   "execution_count": 44,
   "metadata": {},
   "outputs": [],
   "source": [
    "article_dicts[0][\"labels\"]"
   ]
  },
  {
   "cell_type": "code",
   "execution_count": 29,
   "metadata": {},
   "outputs": [
    {
     "name": "stdout",
     "output_type": "stream",
     "text": [
      "article_id\n",
      "article_text\n",
      "abstract_text\n",
      "labels\n",
      "section_names\n",
      "sections\n"
     ]
    }
   ],
   "source": [
    "art1 = article_dicts[0]\n",
    "for k in art1:\n",
    "    print(k)   # these are our features   labels is empty since this is test data"
   ]
  },
  {
   "cell_type": "code",
   "execution_count": 32,
   "metadata": {},
   "outputs": [],
   "source": [
    "art1[\"labels\"]"
   ]
  },
  {
   "cell_type": "code",
   "execution_count": 33,
   "metadata": {},
   "outputs": [
    {
     "data": {
      "text/plain": [
       "'the interest in anchoring phenomena and phenomena in confined nematic liquid crystals has largely been driven by their potential use in liquid crystal display devices .'"
      ]
     },
     "execution_count": 33,
     "metadata": {},
     "output_type": "execute_result"
    }
   ],
   "source": [
    "art1[\"sections\"][0][0]#we can use the subdivisions by sections to summarize one section at a time"
   ]
  },
  {
   "cell_type": "code",
   "execution_count": 34,
   "metadata": {},
   "outputs": [],
   "source": [
    "file = open(\"short_val.txt\",\"w\")\n",
    "for art in article_dicts:\n",
    "    json.dump(art,file)\n",
    "    file.write(\"\\n\")\n",
    "file.close()"
   ]
  },
  {
   "cell_type": "markdown",
   "metadata": {},
   "source": [
    "# Section 2: Using Data"
   ]
  },
  {
   "cell_type": "code",
   "execution_count": 2,
   "metadata": {},
   "outputs": [],
   "source": [
    "import json"
   ]
  },
  {
   "cell_type": "code",
   "execution_count": 3,
   "metadata": {},
   "outputs": [],
   "source": [
    "def get_data(path,n=100):\n",
    "    file = open(path,\"r\")                  \n",
    "    lines = file.readlines()\n",
    "    lines_subsets = lines[:n]\n",
    "    article_dicts = []\n",
    "    for f in lines_subsets:\n",
    "        article_dicts.append(json.loads(f))\n",
    "    file.close()\n",
    "    return article_dicts"
   ]
  },
  {
   "cell_type": "code",
   "execution_count": 4,
   "metadata": {},
   "outputs": [],
   "source": [
    "articles_short = get_data(\"short_val.txt\")   #this is a list of dicts"
   ]
  },
  {
   "cell_type": "code",
   "execution_count": 5,
   "metadata": {},
   "outputs": [
    {
     "data": {
      "text/plain": [
       "'the interest in anchoring phenomena and phenomena in confined nematic liquid crystals has largely been driven by their potential use in liquid crystal display devices .'"
      ]
     },
     "execution_count": 5,
     "metadata": {},
     "output_type": "execute_result"
    }
   ],
   "source": [
    "articles_short[0][\"sections\"][0][0] #using the section level subdivisions will help us summarize one section at a time"
   ]
  },
  {
   "cell_type": "code",
   "execution_count": 6,
   "metadata": {},
   "outputs": [
    {
     "name": "stdout",
     "output_type": "stream",
     "text": [
      "article_id\n",
      "article_text\n",
      "abstract_text\n",
      "labels\n",
      "section_names\n",
      "sections\n"
     ]
    }
   ],
   "source": [
    "for k in articles_short[0]:\n",
    "    print(k)"
   ]
  },
  {
   "cell_type": "code",
   "execution_count": 9,
   "metadata": {},
   "outputs": [],
   "source": [
    "section1 = [s.strip() for s in articles_short[10][\"sections\"][0]]\n",
    "s = \"\"\n",
    "str_section1 = s.join(section1)"
   ]
  },
  {
   "cell_type": "code",
   "execution_count": 10,
   "metadata": {},
   "outputs": [
    {
     "data": {
      "text/plain": [
       "'directional couplers have been studied extensively in the context of all - optical soliton switching after the pioneering work of jensen @xcite and trillo _ et al _ @xcite .these ideas were developed and applied in fiber - optic devices which require splitting of an optical field into two coherent but physically separate parts .optical fiber couplers have been studied for their potential applications to ultra fast all optical switching processing , such as an optical switch @xcite .numerous studies , including soliton switching in dual - core optical fibers have shown excellent switching characteristics , with efficiencies around 96 % for a wide range of input energies @xcite .a review of the basic ideas and the literature can be found in saleh @xcite .recently , nonlinear directional couplers with dissimilar cores have attracted attention , as several new effects can occur in them @xcite.the study of nonliear couplers is no longer confined to the conventional silica based optical fiber coupler .it has recently been extended to algaas nanowire @xcite and lead silicate based holey fiber couplers @xcite .the order of the paper is as follows .first we introduce our one dimensional model and next find a solution in the form of pairs of solitonic wavepackets , one in each channel .we use the variational approximation and the sechans shaped ansatz .we plot a bifurcation diagram showing that the symmetric variational states become unstable for large enough @xmath0 . in the next sectionwe investigate two soliton pair collisions . herewe introduce the bogolibov analysis and , in the following section the variational approximation to describe modulational instability caused by the collision .comparison of the two methods winds up the paper .the results are not identical , but are compatible .'"
      ]
     },
     "execution_count": 10,
     "metadata": {},
     "output_type": "execute_result"
    }
   ],
   "source": [
    "str_section1"
   ]
  },
  {
   "cell_type": "markdown",
   "metadata": {},
   "source": [
    "# Section 3: DANCER approach"
   ]
  },
  {
   "cell_type": "markdown",
   "metadata": {},
   "source": [
    "$\\textbf{To give a basic overview of DANCER}$\n",
    "\n",
    "$\\textbf{1.}$ A given article has K section (s1...sk) each containing N sentences (s1k,s2k...sNk) and\n",
    "an abstract (summary) A = (a1...aM)\n",
    "$\\textbf{2.}$ Split the abstract A into sections using the ROGUE-LCS score\n",
    "\n",
    "$\\textbf{2a.}$ For a given sentence in A, $a_i$ take each sentence in each section: $s_j^{k}$ and measure the $$R_{LCS} = |LCS|/ |s_j^k| $$\n",
    "\n",
    "$\\textbf{2b.}$ Assign $a_i$ to the section which maximized score\n",
    "\n",
    "$\\textbf{3}$ Now you have a target summary sequence $(y_1,...y_N)$ some of which are potentially empty\n",
    "\n",
    "$\\textbf{4}$ Train the summaries in parallel, with following loss function \n",
    "\n",
    "$$ Loss = -\\sum_{t=1}^N \\log P(y^t|y^1...y^{t-1},x)  $$\n",
    "\n",
    "$\\textbf{5}$ Compiling the summaries (prediction) involves autoregressively generating target summaries using beam decoding and then concatenating them\n"
   ]
  },
  {
   "cell_type": "markdown",
   "metadata": {},
   "source": [
    "# Section 4: Modified DANCER using BERT"
   ]
  },
  {
   "cell_type": "markdown",
   "metadata": {},
   "source": [
    "I'm somewhat confused about the training/fine-tuning. Given the summarizer I'm working with \n",
    "bert-extractive-summarizer I was thinking about structuring the a DANCER type algorithm as follows. Let me know if this is the correct approach.\n",
    "\n",
    "\n",
    "$\\textbf{1.}$ We group the sections into 3 groups, \n",
    "section 1: Intro, \n",
    "section 2: Middle Sections \n",
    "section 3: Last \n",
    "\n",
    "$\\textbf{2.}$Apply ROGUE-LCS score to each abstract sentence to get a summary sequence. ex. of size [8,1,2]\n",
    "\n",
    "\n",
    "$\\textbf{3.}$ This gives us target summary proportions [a, b , c]   where \n",
    "    \n",
    "    a = 8/SIZE(section1),\n",
    "    \n",
    "    b = 1/SIZE(section2)\n",
    "    \n",
    "    c = 2/SIZE(section3)\n",
    "\n",
    "\n",
    "$\\textbf{4.}$ Get 3 extractive summaries S1, S2, S3.  with final summary  S = S1 + S2 + S3\n",
    "\n",
    "\n",
    "$\\textbf{5.}$Train summaries in parallel, for input x and target summary y using something like ROGUE-1 Score :\n",
    "\n",
    "   $$R(x,y) = |x \\cap y| / |y|$$\n",
    "   \n",
    "$\\textbf{6.}$ This gives us overall loss as follows,\n",
    "    $Loss = -\\sum_{(x,y)} \\log R(x,y)$\n",
    "    \n",
    "\n",
    "\n",
    "Now if we can use fine-tuning then we should be able to tune our section summarizer to perform well on our dataset. Difficulty still remains of :\n",
    "\n",
    "1. how to select and group sections\n",
    "2. how to decide the proportion to take from each section"
   ]
  },
  {
   "cell_type": "markdown",
   "metadata": {},
   "source": [
    "# Section 5: Summarizer and ROGUE Metric"
   ]
  },
  {
   "cell_type": "code",
   "execution_count": 11,
   "metadata": {},
   "outputs": [],
   "source": [
    "from summarizer import Summarizer\n",
    "model = Summarizer()\n",
    "result = model(str_section1, ratio=0.2)  # Specified with ratio"
   ]
  },
  {
   "cell_type": "code",
   "execution_count": 12,
   "metadata": {},
   "outputs": [
    {
     "name": "stdout",
     "output_type": "stream",
     "text": [
      "in the next sectionwe investigate two soliton pair collisions . herewe introduce the bogolibov analysis and , in the following section the variational approximation to describe modulational instability caused by the collision .comparison of the two methods winds up the paper .the results are not identical , but are compatible .\n"
     ]
    }
   ],
   "source": [
    "print(result)"
   ]
  },
  {
   "cell_type": "code",
   "execution_count": 13,
   "metadata": {},
   "outputs": [],
   "source": [
    "import numpy as np\n",
    "def ROGUE_LCS(X, Y): \n",
    "    m = len(X) \n",
    "    n = len(Y) \n",
    "    #L = np.zeros((m+1,n+1))\n",
    "    L = [[None]*(n + 1) for i in range(m + 1)] \n",
    "    for i in range(m + 1): \n",
    "        for j in range(n + 1): \n",
    "            if i == 0 or j == 0 : \n",
    "                L[i][j] = 0\n",
    "            elif X[i-1] == Y[j-1]: \n",
    "                L[i][j] = L[i-1][j-1]+1\n",
    "            else: \n",
    "                L[i][j] = max(L[i-1][j], L[i][j-1]) \n",
    "    return L[m][n]/n "
   ]
  },
  {
   "cell_type": "code",
   "execution_count": 14,
   "metadata": {},
   "outputs": [],
   "source": [
    "#Given an article split into sections according to section_names\n",
    "#And summary sentences being the abstract split into sentences \n",
    "#We partition the summary sentences into the section level groupings using ROGUE-LCS\n",
    "def match_sentences(article,summary_sentences,section_names):\n",
    "    abstract_sections = [[] for i in range(len(section_names))]\n",
    "    for sent in summary_sentences:\n",
    "        max_precision = -10\n",
    "        max_section = 0\n",
    "        for i in range(len(article)):\n",
    "            section_text = article[i]\n",
    "            for j in range(len(section_text)):\n",
    "                R = ROGUE_LCS(sent,section_text[j])\n",
    "                if R > max_precision:\n",
    "                    max_precision = R\n",
    "                    max_section = i\n",
    "        abstract_sections[max_section].append(sent)\n",
    "    return abstract_sections"
   ]
  },
  {
   "cell_type": "code",
   "execution_count": 17,
   "metadata": {},
   "outputs": [],
   "source": [
    "names = []\n",
    "abstract_split = []\n",
    "for i in range(10):\n",
    "    str1 = \"\"\n",
    "    abstract = str1.join(articles_short[i][\"abstract_text\"]).replace(\"<S>\",\"\").replace(\"</S>\",\"\").strip()\n",
    "    summary_sentences = abstract.strip().split(\".\")[:-1]\n",
    "    article = articles_short[i][\"sections\"]\n",
    "    section_names = articles_short[i][\"section_names\"]\n",
    "    abstract_sections = match_sentences(article,summary_sentences,section_names)\n",
    "    names.append(section_names)\n",
    "    abstract_split.append(abstract_sections)"
   ]
  },
  {
   "cell_type": "raw",
   "metadata": {},
   "source": [
    "Now we have matched the abstract sentences to their respective sections so we now \n",
    "have several questions\n",
    "1. how many sections does each article have \n",
    "2. what is the sectionwise distribution \n",
    "3. how can we learn the proportion of summary we should take from each section?"
   ]
  },
  {
   "cell_type": "code",
   "execution_count": 18,
   "metadata": {},
   "outputs": [
    {
     "data": {
      "text/plain": [
       "(array([ 4.,  6., 17., 18., 26., 12.,  7.,  8.,  0.,  2.]),\n",
       " array([ 2. ,  2.9,  3.8,  4.7,  5.6,  6.5,  7.4,  8.3,  9.2, 10.1, 11. ]),\n",
       " <a list of 10 Patch objects>)"
      ]
     },
     "execution_count": 18,
     "metadata": {},
     "output_type": "execute_result"
    },
    {
     "data": {
      "image/png": "[encoded data removed]",
      "text/plain": [
       "<Figure size 432x288 with 1 Axes>"
      ]
     },
     "metadata": {
      "needs_background": "light"
     },
     "output_type": "display_data"
    }
   ],
   "source": [
    "from matplotlib import pyplot as plt\n",
    "section_lengths = [len(articles_short[i][\"section_names\"]) for i in range(len(articles_short))]\n",
    "plt.hist(section_lengths)\n",
    "#For the first 100 articles we have the following distribution of sections, with the average\n",
    "#appearing to be around 6 and min/max being 3 and 11 respectively. "
   ]
  },
  {
   "cell_type": "code",
   "execution_count": 131,
   "metadata": {},
   "outputs": [],
   "source": [
    "counts = []\n",
    "for v in abstract_split:\n",
    "    count_split = []\n",
    "    for i in v:\n",
    "        count_split.append(len(i))\n",
    "    counts.append(count_split)"
   ]
  },
  {
   "cell_type": "code",
   "execution_count": 141,
   "metadata": {},
   "outputs": [
    {
     "data": {
      "text/plain": [
       "(array([[1., 1., 1., 1., 0., 0., 0., 0., 0., 0.],\n",
       "        [5., 1., 0., 0., 0., 0., 0., 0., 0., 1.],\n",
       "        [4., 1., 1., 0., 0., 0., 0., 0., 0., 0.],\n",
       "        [3., 0., 0., 1., 0., 0., 0., 0., 1., 0.],\n",
       "        [5., 1., 2., 0., 0., 0., 0., 0., 0., 0.],\n",
       "        [6., 0., 0., 0., 0., 0., 0., 1., 0., 0.],\n",
       "        [3., 1., 0., 0., 0., 0., 1., 0., 0., 0.],\n",
       "        [7., 0., 0., 0., 0., 0., 1., 0., 0., 0.],\n",
       "        [3., 1., 0., 0., 0., 0., 1., 1., 0., 0.],\n",
       "        [3., 2., 1., 2., 0., 0., 0., 0., 0., 0.]]),\n",
       " array([0. , 0.8, 1.6, 2.4, 3.2, 4. , 4.8, 5.6, 6.4, 7.2, 8. ]),\n",
       " <a list of 10 Lists of Patches objects>)"
      ]
     },
     "execution_count": 141,
     "metadata": {},
     "output_type": "execute_result"
    },
    {
     "data": {
      "image/png": "[encoded data removed]",
      "text/plain": [
       "<Figure size 432x288 with 1 Axes>"
      ]
     },
     "metadata": {
      "needs_background": "light"
     },
     "output_type": "display_data"
    }
   ],
   "source": [
    "plt.hist(counts)\n",
    "#Distribution is heavily weighted towards the 1st section"
   ]
  },
  {
   "cell_type": "code",
   "execution_count": null,
   "metadata": {},
   "outputs": [],
   "source": []
  }
 ],
 "metadata": {
  "kernelspec": {
   "display_name": "Python 3",
   "language": "python",
   "name": "python3"
  },
  "language_info": {
   "codemirror_mode": {
    "name": "ipython",
    "version": 3
   },
   "file_extension": ".py",
   "mimetype": "text/x-python",
   "name": "python",
   "nbconvert_exporter": "python",
   "pygments_lexer": "ipython3",
   "version": "3.8.3"
  }
 },
 "nbformat": 4,
 "nbformat_minor": 4
}
